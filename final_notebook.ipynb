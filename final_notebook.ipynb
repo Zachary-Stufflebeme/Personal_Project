{
 "cells": [
  {
   "cell_type": "code",
   "execution_count": 1,
   "metadata": {},
   "outputs": [],
   "source": [
    "#stats model and visualization imports\n",
    "import pandas as pd\n",
    "import numpy as np\n",
    "import warnings\n",
    "warnings.filterwarnings('ignore')\n",
    "from sklearn.tree import DecisionTreeClassifier,plot_tree,export_text\n",
    "from sklearn.metrics import confusion_matrix, classification_report, accuracy_score\n",
    "from sklearn.ensemble import RandomForestClassifier\n",
    "from sklearn.metrics import classification_report, confusion_matrix, ConfusionMatrixDisplay\n",
    "import matplotlib.pyplot as plt\n",
    "from sklearn.neighbors import KNeighborsClassifier\n",
    "from sklearn.linear_model import LogisticRegression\n",
    "import seaborn as sns\n",
    "from sklearn.preprocessing import MinMaxScaler\n",
    "from scipy import stats\n",
    "#custom Imports\n",
    "import Wrangle as w\n",
    "from scipy import stats\n",
    "import explore as e\n",
    "import Modeling as m "
   ]
  },
  {
   "cell_type": "markdown",
   "metadata": {},
   "source": [
    "## Project Plan:\n",
    "- Acquire:\n",
    "    - I will acquire data through functions saved in my wrangle.py along with my encrypted credentials.\n",
    "- Prepare:\n",
    "    - Prepare and clean my data in such a way that I can plug it in to my classification models without causing error and with the prepared data still holding       true to its original meaning. This includes:\n",
    "        - dropping all rows with nulls for the column metacritic as this is where I am deriving my target.\n",
    "        - encoding all categorical variables.\n",
    "        - scaling my numeric variables to numbers between 0 and 1.\n",
    "        - dropping unnecessary columns. Many Included in the dataset would have information that I would not be privy to upon a games release.\n",
    "        - dropping all remaining nulls as this is only about 100 more rows.\n",
    "- Explore:\n",
    "    - Ask statistical questions of my data to find useful insights and create visualizations of the results in order to improve comprehension by people reading       the report without clarifications from my presentation.\n",
    "- Modeling:\n",
    "    - Define a baseline.\n",
    "    - Create models and adjust parameters to try to accurately predict the 'good game' status of a game, Validate that all of your models are accurate not just       on your train data but on outside data as well.\n",
    "- Deliver:\n",
    "    - Put all of my findings together in a final report where I make things as easy to understand as possible.\n",
    "\n",
    "        \n",
    "\n",
    "    "
   ]
  },
  {
   "cell_type": "markdown",
   "metadata": {},
   "source": [
    "## Project Summary:\n",
    "- In my project I am looking at a videogame dataset and am trying to create a model that will take in features from the data that it will use to predict whether or not a game is considered a 'must play game'. This classification comes from metacritic.com where they define a 'must play game' as a game that achieves a metacritic score of above 90%, which is created by taking weighted averages of all of the reviews of games based upon the 'quality' and 'stature' of the critic. In my work I was able to create 3 models That all performed similarly well and above the baseline. I found 4 useful drivers of what could cause a game to be or not be a 'must play game'. My Decision Tree Classifier was my best model testing at 98.7% accurate at predicting if a game will or won't be a 'must play game', with a precision rate of 100% on finding 'must play games'. My main take-aways from my report would be that games published by Blizzard and games that fall under the shooter genre are both significantly more likely to be 'must play games' compared to the general population. some other take-aways are that I have created a model that is 2.5% more accurate than the baseline and I have identified some very relevant features which we can manipulate going forward to try and detect 'must play games'."
   ]
  },
  {
   "cell_type": "markdown",
   "metadata": {},
   "source": [
    "##### My target = MUST PLAY GAME - a game achieving a score of over 90% on metacritic"
   ]
  },
  {
   "cell_type": "markdown",
   "metadata": {},
   "source": [
    "## Acquire:"
   ]
  },
  {
   "cell_type": "code",
   "execution_count": 2,
   "metadata": {
    "collapsed": false,
    "jupyter": {
     "outputs_hidden": false
    }
   },
   "outputs": [],
   "source": [
    "#calling get games function which reads local csv and imports as df.\n",
    "df = w.get_games()"
   ]
  },
  {
   "cell_type": "markdown",
   "metadata": {},
   "source": [
    "## Prepare:"
   ]
  },
  {
   "cell_type": "code",
   "execution_count": 3,
   "metadata": {
    "collapsed": false,
    "jupyter": {
     "outputs_hidden": false
    }
   },
   "outputs": [],
   "source": [
    "#calling prep_data which cleans imported df as explained in plan.\n",
    "df = w.prep_data(df)"
   ]
  },
  {
   "cell_type": "code",
   "execution_count": 4,
   "metadata": {
    "collapsed": false,
    "jupyter": {
     "outputs_hidden": false
    }
   },
   "outputs": [],
   "source": [
    "#calling split games which splits my df into train,validate,test,x_train,y_train,x_validate,y_validate,x_test,y_test.\n",
    "train, validate, test, x_train,y_train, x_validate,y_validate, x_test, y_test = w.split_games(df)"
   ]
  },
  {
   "cell_type": "markdown",
   "metadata": {},
   "source": [
    "## Exploration:"
   ]
  },
  {
   "cell_type": "code",
   "execution_count": 5,
   "metadata": {
    "collapsed": false,
    "jupyter": {
     "outputs_hidden": false
    }
   },
   "outputs": [],
   "source": [
    "alpha = .05"
   ]
  },
  {
   "cell_type": "markdown",
   "metadata": {},
   "source": [
    "Distribution of good games."
   ]
  },
  {
   "cell_type": "code",
   "execution_count": 6,
   "metadata": {
    "collapsed": false,
    "jupyter": {
     "outputs_hidden": false
    }
   },
   "outputs": [
    {
     "data": {
      "text/plain": [
       "<matplotlib.legend.Legend at 0x7fa5e40132e0>"
      ]
     },
     "execution_count": 6,
     "metadata": {},
     "output_type": "execute_result"
    },
    {
     "data": {
      "image/png": "[encoded data removed]",
      "text/plain": [
       "<Figure size 432x288 with 1 Axes>"
      ]
     },
     "metadata": {
      "needs_background": "light"
     },
     "output_type": "display_data"
    }
   ],
   "source": [
    "#simple barchart to show distribution of good and bad games.\n",
    "pd.crosstab(y_train,y_train).plot.bar()\n",
    "plt.legend(['can miss','must play'])\n",
    "\n"
   ]
  },
  {
   "cell_type": "markdown",
   "metadata": {},
   "source": [
    "## Question 1:"
   ]
  },
  {
   "cell_type": "markdown",
   "metadata": {},
   "source": [
    "Are PC games equally likely to be 'must play games' as the general population of platforms?\n",
    "- Hnull - PC games are equally likely to be good games as the general population\n",
    "- Halt - PC games are not equally likely to be good games compared to the population."
   ]
  },
  {
   "cell_type": "code",
   "execution_count": 7,
   "metadata": {
    "collapsed": false,
    "jupyter": {
     "outputs_hidden": false
    }
   },
   "outputs": [
    {
     "data": {
      "image/png": "[encoded data removed]",
      "text/plain": [
       "<Figure size 432x288 with 1 Axes>"
      ]
     },
     "metadata": {
      "needs_background": "light"
     },
     "output_type": "display_data"
    }
   ],
   "source": [
    "#calling the get_pc_viz function to create a visual for this test.\n",
    "e.get_PC_viz(train)"
   ]
  },
  {
   "cell_type": "code",
   "execution_count": 8,
   "metadata": {
    "collapsed": false,
    "jupyter": {
     "outputs_hidden": false
    }
   },
   "outputs": [
    {
     "name": "stdout",
     "output_type": "stream",
     "text": [
      "The p-value is less than the alpha: True\n"
     ]
    }
   ],
   "source": [
    "#calling the chi^2 function in order to run a chi_square test on PC games vs all platforms and whether they are good games.\n",
    "e.chi_square(train,'Platform_PC')"
   ]
  },
  {
   "cell_type": "markdown",
   "metadata": {},
   "source": [
    "Since my p-val is less than alpha than I can reject the null hypothesis that the likelyhood for a good game to be released on PC  is the same as all platforms. Therefor this feature could be useful to our model."
   ]
  },
  {
   "cell_type": "markdown",
   "metadata": {},
   "source": [
    "## Question 2:"
   ]
  },
  {
   "cell_type": "markdown",
   "metadata": {},
   "source": [
    "Are shooters equally likely to be 'must play games' as the general population of genres?\n",
    "- Hnull - shooters are equally likely to be 'must play games' as other genres\n",
    "- Halt - shooters are not equally likely to be 'must play games' as other genres"
   ]
  },
  {
   "cell_type": "code",
   "execution_count": 9,
   "metadata": {
    "collapsed": false,
    "jupyter": {
     "outputs_hidden": false
    }
   },
   "outputs": [
    {
     "data": {
      "image/png": "[encoded data removed]",
      "text/plain": [
       "<Figure size 432x288 with 1 Axes>"
      ]
     },
     "metadata": {
      "needs_background": "light"
     },
     "output_type": "display_data"
    }
   ],
   "source": [
    "e.get_shooter_viz(train)"
   ]
  },
  {
   "cell_type": "code",
   "execution_count": 10,
   "metadata": {
    "collapsed": false,
    "jupyter": {
     "outputs_hidden": false
    }
   },
   "outputs": [
    {
     "name": "stdout",
     "output_type": "stream",
     "text": [
      "The p-value is less than the alpha: True\n"
     ]
    }
   ],
   "source": [
    "#Here I am running a Chi^2 on shooters vs all Genres and whether or not they are good games.\n",
    "e.chi_square(train,'Genre_Shooter')"
   ]
  },
  {
   "cell_type": "markdown",
   "metadata": {},
   "source": [
    "Since My p-val is  less than alpha I can conclude that the likelyhood of shooters being a good game is the more than the population therefor this probably is useful for my model."
   ]
  },
  {
   "cell_type": "markdown",
   "metadata": {},
   "source": [
    "## Question 3:"
   ]
  },
  {
   "cell_type": "markdown",
   "metadata": {},
   "source": [
    "Are games published by blizzard equally likely to be 'must play games' as the general population of developers?\n",
    " - Hnull- blizzard games are equally likely to be 'must play games' as other developers\n",
    " - Halt- blizzard games are not equally likely to be 'must play games' as other developers\n"
   ]
  },
  {
   "cell_type": "code",
   "execution_count": 11,
   "metadata": {},
   "outputs": [
    {
     "data": {
      "image/png": "[encoded data removed]",
      "text/plain": [
       "<Figure size 432x288 with 1 Axes>"
      ]
     },
     "metadata": {
      "needs_background": "light"
     },
     "output_type": "display_data"
    }
   ],
   "source": [
    "e.get_blizzard_viz(train)"
   ]
  },
  {
   "cell_type": "code",
   "execution_count": 12,
   "metadata": {
    "collapsed": false,
    "jupyter": {
     "outputs_hidden": false
    }
   },
   "outputs": [
    {
     "name": "stdout",
     "output_type": "stream",
     "text": [
      "The p-value is less than the alpha: True\n"
     ]
    }
   ],
   "source": [
    "#Here I am running a Chi^2 on blizzard games vs all publishers and whether or not they are good games.\n",
    "e.chi_square(train,'Publisher_Blizzard_Entertainment')"
   ]
  },
  {
   "cell_type": "markdown",
   "metadata": {},
   "source": [
    "Since the P-val is less than alpha I can conclude that blizzard games are more likely to be good games as other developers and this might be a good feature for modeling.\n"
   ]
  },
  {
   "cell_type": "markdown",
   "metadata": {},
   "source": [
    "## Question 4:"
   ]
  },
  {
   "cell_type": "markdown",
   "metadata": {},
   "source": [
    "Are Indie-Games equally likely to be 'must play games' than the general population of genres?\n",
    "- Hnull - Indie-Games are equally likely to be 'must play games' as other genres\n",
    "- Halt - Indie-Games are not equally likely to be 'must play games' as other genres"
   ]
  },
  {
   "cell_type": "code",
   "execution_count": 13,
   "metadata": {},
   "outputs": [
    {
     "data": {
      "image/png": "[encoded data removed]",
      "text/plain": [
       "<Figure size 432x288 with 1 Axes>"
      ]
     },
     "metadata": {
      "needs_background": "light"
     },
     "output_type": "display_data"
    }
   ],
   "source": [
    "e.get_indie_viz(train)"
   ]
  },
  {
   "cell_type": "code",
   "execution_count": 14,
   "metadata": {},
   "outputs": [
    {
     "name": "stdout",
     "output_type": "stream",
     "text": [
      "The p-value is less than the alpha: True\n"
     ]
    }
   ],
   "source": [
    "#Here I am running a tchi^2 on indie games vs all genres and whether or not they are good games.\n",
    "e.chi_square(train,'Genre_Indie')\n"
   ]
  },
  {
   "cell_type": "markdown",
   "metadata": {},
   "source": [
    "Since the p-val is less than alpha I can conclude that the avg occurance of good games is lower in indie games than in All genres. This could be useful for my modeling."
   ]
  },
  {
   "cell_type": "markdown",
   "metadata": {},
   "source": [
    "## Question 5:"
   ]
  },
  {
   "cell_type": "markdown",
   "metadata": {},
   "source": [
    "Are RPG games equally likely to be 'must play games' than the general population of genres?\n",
    "- Hnull - RPG-Games are equally likely to be 'must play games' as other genres\n",
    "- Halt - RPG-Games are not equally likely to be 'must play games' as other genres"
   ]
  },
  {
   "cell_type": "code",
   "execution_count": 15,
   "metadata": {},
   "outputs": [
    {
     "data": {
      "image/png": "[encoded data removed]",
      "text/plain": [
       "<Figure size 432x288 with 1 Axes>"
      ]
     },
     "metadata": {
      "needs_background": "light"
     },
     "output_type": "display_data"
    }
   ],
   "source": [
    "e.get_RPG_viz(train)"
   ]
  },
  {
   "cell_type": "code",
   "execution_count": 16,
   "metadata": {},
   "outputs": [
    {
     "name": "stdout",
     "output_type": "stream",
     "text": [
      "The p-value is less than the alpha: False\n"
     ]
    }
   ],
   "source": [
    "#Here I am running a tchi^2 on indie games vs all genres and whether or not they are good games.\n",
    "e.chi_square(train,'Genre_RPG')"
   ]
  },
  {
   "cell_type": "markdown",
   "metadata": {},
   "source": [
    "Since the p-val is less than alpha a game being an rpg would not be very useful to predicting 'must play' status."
   ]
  },
  {
   "cell_type": "markdown",
   "metadata": {},
   "source": [
    "## Modeling:"
   ]
  },
  {
   "cell_type": "markdown",
   "metadata": {},
   "source": [
    "- Decision Tree Classifier\n",
    "- Random Forest\n",
    "- Logistic Regression"
   ]
  },
  {
   "cell_type": "code",
   "execution_count": 17,
   "metadata": {},
   "outputs": [],
   "source": [
    "#Here I am scaling my data for modeling.\n",
    "w.Scale_data(x_train,x_validate,x_test)"
   ]
  },
  {
   "cell_type": "code",
   "execution_count": 18,
   "metadata": {},
   "outputs": [
    {
     "data": {
      "text/plain": [
       "96.26"
      ]
     },
     "execution_count": 18,
     "metadata": {},
     "output_type": "execute_result"
    }
   ],
   "source": [
    "#Here I am calculating our baseline accuracy\n",
    "m.get_baseline(train)"
   ]
  },
  {
   "cell_type": "markdown",
   "metadata": {},
   "source": [
    "##### Decision Tree: 100% on validate"
   ]
  },
  {
   "cell_type": "code",
   "execution_count": 19,
   "metadata": {},
   "outputs": [
    {
     "name": "stdout",
     "output_type": "stream",
     "text": [
      "             0.0   1.0  accuracy  macro avg  weighted avg\n",
      "precision    1.0   1.0       1.0        1.0           1.0\n",
      "recall       1.0   1.0       1.0        1.0           1.0\n",
      "f1-score     1.0   1.0       1.0        1.0           1.0\n",
      "support    884.0  35.0       1.0      919.0         919.0\n",
      "None\n"
     ]
    }
   ],
   "source": [
    "#Here I am creating fitting and scoring my Decision Tree Model on validate data. Hypers: max_depth = 5\n",
    "print(m.get_DTC(x_train,y_train,x_validate,y_validate,5))"
   ]
  },
  {
   "cell_type": "markdown",
   "metadata": {},
   "source": [
    "##### Random Forest: 99% on validate"
   ]
  },
  {
   "cell_type": "code",
   "execution_count": 20,
   "metadata": {},
   "outputs": [
    {
     "name": "stdout",
     "output_type": "stream",
     "text": [
      "                  0.0        1.0  accuracy   macro avg  weighted avg\n",
      "precision    0.993258   1.000000  0.993471    0.996629      0.993515\n",
      "recall       1.000000   0.828571  0.993471    0.914286      0.993471\n",
      "f1-score     0.996618   0.906250  0.993471    0.951434      0.993176\n",
      "support    884.000000  35.000000  0.993471  919.000000    919.000000\n",
      "None\n"
     ]
    }
   ],
   "source": [
    "#Here I am creating fitting and scoring my Random Forest Model on Validate data. Hypers: max_depth = 18, min sample leaf = 4\n",
    "\n",
    "print(m.get_RF(x_train,y_train,x_validate,y_validate,18,4))\n"
   ]
  },
  {
   "cell_type": "markdown",
   "metadata": {},
   "source": [
    "##### Logistic Regression: 96% on validate"
   ]
  },
  {
   "cell_type": "code",
   "execution_count": 21,
   "metadata": {},
   "outputs": [
    {
     "name": "stdout",
     "output_type": "stream",
     "text": [
      "                  0.0        1.0  accuracy   macro avg  weighted avg\n",
      "precision    0.965066   1.000000   0.96518    0.982533      0.966396\n",
      "recall       1.000000   0.085714   0.96518    0.542857      0.965180\n",
      "f1-score     0.982222   0.157895   0.96518    0.570058      0.950828\n",
      "support    884.000000  35.000000   0.96518  919.000000    919.000000\n",
      "None\n"
     ]
    }
   ],
   "source": [
    "#Here I am creating fitting and scoring my Logistic Regression Model on Validate data. Hypers: C = .4\n",
    "\n",
    "print(m.get_LOGREG(x_train,y_train,x_validate,y_validate,.4))"
   ]
  },
  {
   "cell_type": "markdown",
   "metadata": {},
   "source": [
    "## TEST:"
   ]
  },
  {
   "cell_type": "markdown",
   "metadata": {},
   "source": [
    "I have chosen my random forest model as it performs perfectly on my validate data."
   ]
  },
  {
   "cell_type": "code",
   "execution_count": 22,
   "metadata": {},
   "outputs": [
    {
     "name": "stdout",
     "output_type": "stream",
     "text": [
      "                  0.0        1.0  accuracy   macro avg  weighted avg\n",
      "precision    0.986622   1.000000  0.986942    0.993311      0.987117\n",
      "recall       1.000000   0.647059  0.986942    0.823529      0.986942\n",
      "f1-score     0.993266   0.785714  0.986942    0.889490      0.985587\n",
      "support    885.000000  34.000000  0.986942  919.000000    919.000000\n"
     ]
    }
   ],
   "source": [
    "#Here I am scoring my best model on test data.\n",
    "m.test_DTC(x_train,y_train,x_test,y_test,5)"
   ]
  },
  {
   "cell_type": "markdown",
   "metadata": {},
   "source": [
    "As you can see my best model is testing at almost 99% accuracy (about 2.5% above baseline) with a precision score of 100% on my positive case which is great news! This means that every game my model defined as a 'must play game' was actually a 'must play game'."
   ]
  },
  {
   "cell_type": "markdown",
   "metadata": {},
   "source": [
    "## Conclusion:"
   ]
  },
  {
   "cell_type": "markdown",
   "metadata": {},
   "source": [
    "In conclusion I was able to find 4 helpful features to focus on in the name of predicting what will make a game a 'must play game' or not, as well as make a model that tested at 98.7% accurate with 100% precision on my target of 'must play games'. I will continue to spend some time looking into ways to capture the 'must play games' that my model is missing. I will also spend more time in exploration as that could help me find Which of my features are more directly responsible for what causes a game to be 'must play'."
   ]
  },
  {
   "cell_type": "markdown",
   "metadata": {},
   "source": [
    "## Business Reccommendations:"
   ]
  },
  {
   "cell_type": "markdown",
   "metadata": {},
   "source": [
    "Based off of my exploration I would recommend considering different genres and publishers when determining whether or not a game will be good or bad. particulary games published by Blizzard entertainment and games that are in the shooter genre. Some insights on what not to expect less in a must play game would be if it fell into the indie genre or is released on PC."
   ]
  }
 ],
 "metadata": {
  "kernelspec": {
   "display_name": "Python 3 (ipykernel)",
   "language": "python",
   "name": "python3"
  },
  "language_info": {
   "codemirror_mode": {
    "name": "ipython",
    "version": 3
   },
   "file_extension": ".py",
   "mimetype": "text/x-python",
   "name": "python",
   "nbconvert_exporter": "python",
   "pygments_lexer": "ipython3",
   "version": "3.9.12"
  }
 },
 "nbformat": 4,
 "nbformat_minor": 4
}
